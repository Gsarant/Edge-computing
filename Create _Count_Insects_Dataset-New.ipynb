{
 "cells": [
  {
   "cell_type": "markdown",
   "metadata": {
    "gradient": {
     "editing": false,
     "id": "e17e95e8-21a2-4b84-adcc-aee77953c9a7",
     "kernelId": "c2ba140e-207e-406a-9a13-411336284a46"
    }
   },
   "source": [
    "#  Install depences"
   ]
  },
  {
   "cell_type": "code",
   "execution_count": null,
   "metadata": {
    "collapsed": false,
    "gradient": {
     "editing": false,
     "id": "24dcf091-f825-4f30-a5b4-68f66710eb18",
     "kernelId": "c2ba140e-207e-406a-9a13-411336284a46",
     "source_hidden": false
    }
   },
   "outputs": [],
   "source": [
    "!apt-get update -y\n",
    "#!apt-get upgrade -y\n",
    "!apt install libgl1-mesa-glx -y\n",
    "!pip install matplotlib\n",
    "!pip install opencv-python\n",
    "!/usr/bin/python -m pip install --upgrade pip\n"
   ]
  },
  {
   "cell_type": "markdown",
   "metadata": {
    "gradient": {
     "editing": false,
     "id": "b12a8768-7cf8-4341-8a79-a1ad5e903e72",
     "kernelId": "c2ba140e-207e-406a-9a13-411336284a46"
    }
   },
   "source": [
    "# Import Libraries"
   ]
  },
  {
   "cell_type": "code",
   "execution_count": null,
   "metadata": {
    "colab": {
     "base_uri": "https://localhost:8080/"
    },
    "executionInfo": {
     "elapsed": 35819,
     "status": "ok",
     "timestamp": 1637860076766,
     "user": {
      "displayName": "Ιωάννης Σαραντόπουλος",
      "photoUrl": "https://lh3.googleusercontent.com/a/default-user=s64",
      "userId": "10062810659420397031"
     },
     "user_tz": -120
    },
    "gradient": {
     "editing": false,
     "id": "fbff811e-b64e-4fa1-a66c-8ecd5d428f3c",
     "kernelId": "c2ba140e-207e-406a-9a13-411336284a46"
    },
    "id": "FW_KRH0B1eoj",
    "outputId": "ae3c9a98-f436-4746-ea86-fa968eb760d8"
   },
   "outputs": [
    {
     "name": "stdout",
     "output_type": "stream",
     "text": [
      "Import libraries\n"
     ]
    }
   ],
   "source": [
    "import numpy as np\n",
    "import matplotlib.pyplot as plt\n",
    "import PIL\n",
    "import pathlib\n",
    "import os\n",
    "import datetime\n",
    "import urllib.request\n",
    "import cv2 \n",
    "from random import seed\n",
    "from random import randint\n",
    "import tensorflow as tf \n",
    "\n",
    "image_dataset_folder=\"images_sets\"\n",
    "train_image_folder=os.path.join(os.path.join(image_dataset_folder,'images_train_set'))\n",
    "test_image_folder=os.path.join(os.path.join(image_dataset_folder,'images_test_set'))\n",
    "image_folder=test_image_folder\n",
    "\n",
    "bugs_set_folder='insects_set'\n",
    "train_bugs_folder=os.path.join(os.path.join(bugs_set_folder,'train_val_set'))\n",
    "test_bugs_folder=os.path.join(os.path.join(bugs_set_folder,'test_set'))\n",
    "dirt_folder=os.path.join(os.path.join(bugs_set_folder,'dirt_set'))\n",
    "bugs_folder=test_bugs_folder\n",
    "\n",
    "\n",
    "#!mkdir {image_folder}\n",
    "seed(15)\n",
    "print('Import libraries')\n"
   ]
  },
  {
   "cell_type": "markdown",
   "metadata": {
    "gradient": {
     "editing": false,
     "id": "c1c6892b-f173-4c75-8e53-a437e2c587a2",
     "kernelId": "c2ba140e-207e-406a-9a13-411336284a46"
    },
    "id": "OhdQj58l537x"
   },
   "source": [
    "# Library"
   ]
  },
  {
   "cell_type": "code",
   "execution_count": null,
   "metadata": {
    "executionInfo": {
     "elapsed": 391,
     "status": "ok",
     "timestamp": 1637860099854,
     "user": {
      "displayName": "Ιωάννης Σαραντόπουλος",
      "photoUrl": "https://lh3.googleusercontent.com/a/default-user=s64",
      "userId": "10062810659420397031"
     },
     "user_tz": -120
    },
    "gradient": {
     "editing": false,
     "id": "3f710b40-258c-40f2-83ab-ad1cf2c296bb",
     "kernelId": "c2ba140e-207e-406a-9a13-411336284a46"
    },
    "id": "V6y_6aCi53iM"
   },
   "outputs": [],
   "source": [
    "# Create random position in Background image for paste image\n",
    "def paste_image_area (background,pasted_image):\n",
    "  y_background=randint(1,background.shape[0]-pasted_image.shape[0])\n",
    "  x_background=randint(1,background.shape[1]-pasted_image.shape[1])\n",
    "  return y_background,y_background+pasted_image.shape[0],x_background,x_background+pasted_image.shape[1]\n",
    "\n",
    "#Check if pasted images are overlaped \n",
    "def is_it_overlay(overlay_array,image):\n",
    "  for item_overlay_array in overlay_array:\n",
    "    if any(e in range(item_overlay_array[0],item_overlay_array[1]) for e in range(image[0],image[1])) and any(e in range(item_overlay_array[2],item_overlay_array[3]) for e in range(image[2],image[3])) :\n",
    "      return True\n",
    "  return False   \n",
    "\n",
    "def crop_from_contour(background,image,overlay_array,min_contourArea,overlay=True):\n",
    "  #find contours from paste image\n",
    "  ret,thresh = cv2.threshold(image, 110,255, cv2.THRESH_BINARY_INV + cv2.THRESH_OTSU) \n",
    "  kernel = np.ones((5,5),np.uint8)\n",
    "  \n",
    "  #Find Contours from Threshold image\n",
    "  cnts = cv2.findContours(thresh, cv2.RETR_TREE, cv2.CHAIN_APPROX_SIMPLE)[-2]\n",
    "  for cnt in cnts:\n",
    "    if cv2.contourArea(cnt) > min_contourArea:\n",
    "      #print(cv2.contourArea(cnt))  \n",
    "      break\n",
    "  if cv2.contourArea(cnt) <= min_contourArea:\n",
    "    return None\n",
    "  \n",
    "  if background.shape[0]<=image.shape[0] or background.shape[1]<=image.shape[1]:\n",
    "    print(f'background.shape {background.shape} image.shape {image.shape}')\n",
    "  #Create mask to paset pasted image on Background image\n",
    "  mask = np.zeros(image.shape[:2],np.uint8)\n",
    "  cv2.drawContours(mask, [cnt],-1, 255, -1)\n",
    "\n",
    "  #Paste pasted image to Background image\n",
    "  y0,y1,x0,x1=paste_image_area(background,image)\n",
    "  if not is_it_overlay(overlay_array,(y0,y1,x0,x1)) or overlay==True: \n",
    "    overlay_array.append((y0,y1,x0,x1))\n",
    "    background[y0:y1,x0:x1]=np.where(mask ==255, image, background[y0:y1,x0:x1])\n",
    "    return background\n",
    "  else:   \n",
    "    #print('return none')\n",
    "    return None \n",
    "  \n",
    "#Random rotate in pasted image\n",
    "def rotate_image(image,angle=0,pad=8):\n",
    "  dim=(max(image.shape[:2])+pad,max(image.shape[:2])+pad)\n",
    "  new_image =np.full(dim,255,dtype=np.uint8)\n",
    "  \n",
    "  y0 = int(.5 * new_image.shape[0]) - int(.5 * image.shape[0])\n",
    "  x0 = int(.5 * new_image.shape[1]) - int(.5 * image.shape[1])\n",
    "  y1 = int(.5 * new_image.shape[0]) + int(.5 * image.shape[0])\n",
    "  x1 = int(.5 * new_image.shape[1]) + int(.5 * image.shape[1])\n",
    "  if x1-x0<image.shape[1]:\n",
    "    x1=image.shape[1]+x0\n",
    "  if y1-y0<image.shape[0]:\n",
    "    y1=image.shape[0]+y0  \n",
    "  new_image[y0:y1,x0:x1]=image\n",
    "   \n",
    "  height, width = new_image.shape[:2]\n",
    "  center = (width/2, height/2)\n",
    "  rotate_matrix = cv2.getRotationMatrix2D(center=center, angle=randint(1,359) if angle==0 else angle, scale=1)\n",
    "  rot_im=cv2.warpAffine(src=new_image, M=rotate_matrix, dsize=(width,height))\n",
    "  return np.where(rot_im==0,255,rot_im)\n",
    "\n",
    "def image_scale(image,width_size=20):\n",
    "  h,w=image.shape[0:2]\n",
    "  scale=width_size/w\n",
    "  image=cv2.resize(image,(int(w*scale),int(h*scale)), cv2.INTER_AREA)\n",
    "  #print(f'width_size={width_size} w={w} scale={scale} {image is None} {image.shape}')\n",
    "  return image\n",
    "\n",
    "print('Init Functions')\n",
    "\n"
   ]
  },
  {
   "cell_type": "markdown",
   "metadata": {
    "gradient": {
     "editing": false,
     "id": "5a5f567b-32b3-4c82-adb9-d9c83065adb5",
     "kernelId": "c2ba140e-207e-406a-9a13-411336284a46"
    },
    "id": "yq0t-k3W3GCs"
   },
   "source": [
    "# Create Image"
   ]
  },
  {
   "cell_type": "markdown",
   "metadata": {
    "gradient": {
     "editing": false,
     "id": "de40c8d5-8289-4598-bb20-cfc844502cf1",
     "kernelId": "c2ba140e-207e-406a-9a13-411336284a46"
    }
   },
   "source": [
    "## Create Background"
   ]
  },
  {
   "cell_type": "code",
   "execution_count": null,
   "metadata": {
    "collapsed": false,
    "gradient": {
     "editing": false,
     "id": "f5f47396-a7c3-43e3-ba47-3d594d773843",
     "kernelId": "c2ba140e-207e-406a-9a13-411336284a46",
     "source_hidden": false
    }
   },
   "outputs": [],
   "source": [
    "def create_background(max_num_of_dirts=4):\n",
    "    original_img=cv2.cvtColor(cv2.imread(os.path.join(bugs_set_folder,'null_image.jpg')), cv2.COLOR_BGR2GRAY)\n",
    "    dirt_images=os.listdir(dirt_folder)\n",
    "    for x in range(randint(0,max_num_of_dirts)):\n",
    "        min_contourArea=50\n",
    "        name_of_dirt_image=os.path.join(dirt_folder,dirt_images[randint(0,len(dirt_images)-1)])\n",
    "        #print(name_of_dirt_image)\n",
    "        dirt_img=cv2.imread(name_of_dirt_image)\n",
    "        dirt_img=cv2.cvtColor(dirt_img, cv2.COLOR_BGR2GRAY)\n",
    "        \n",
    "        h,w=dirt_img.shape[0:2]\n",
    "        dirt_img=cv2.rectangle(dirt_img,(0,0),(w-1,h-1),(255,255,255),10) # really thick white rectangle\n",
    "        \n",
    "        dirt_img=image_scale(dirt_img,randint(20,40))\n",
    "        \n",
    "        dirt_img=rotate_image(dirt_img,0,0)\n",
    "        \n",
    "        #y0,y1,x0,x1=paste_image_area(original_img,dirt_img)\n",
    "        #original_img[y0:y1,x0:x1]=np.where(dirt_img < 240, dirt_img, origina_img[y0:y1,x0:x1])\n",
    "        min_contourArea=30\n",
    "        last_image=original_img.copy()\n",
    "        while True:\n",
    "            \n",
    "            overlay_array=[]\n",
    "            #print(f' {last_image is  None}  {dirt_img is None}')\n",
    "            #print(f' {last_image.shape}  {dirt_img.shape}')\n",
    "            \n",
    "            temp_original_img=crop_from_contour(last_image, dirt_img, overlay_array, min_contourArea,True)\n",
    "            \n",
    "            if  temp_original_img is not None:\n",
    "                original_img=temp_original_img.copy()\n",
    "                #print(f'Not None')\n",
    "                break\n",
    "            else:\n",
    "                if min_contourArea-5>=0 :\n",
    "                    min_contourArea=min_contourArea-5    \n",
    "                    #print(f'min_contourArea {min_contourArea}')\n",
    "                else:\n",
    "                    #print('saddaadd')\n",
    "                    break    \n",
    "\n",
    "    return original_img"
   ]
  },
  {
   "cell_type": "markdown",
   "metadata": {
    "gradient": {
     "editing": false,
     "id": "49def92c-1b79-40c2-aa58-f91794f32055",
     "kernelId": "c2ba140e-207e-406a-9a13-411336284a46"
    }
   },
   "source": [
    "## Create image\n",
    "## Create Dataset"
   ]
  },
  {
   "cell_type": "code",
   "execution_count": null,
   "metadata": {
    "collapsed": false,
    "gradient": {
     "editing": false,
     "id": "63ad7372-7a59-46c5-89de-a22ca8a3a326",
     "kernelId": "c2ba140e-207e-406a-9a13-411336284a46",
     "source_hidden": false
    }
   },
   "outputs": [],
   "source": [
    "def create_image(background,bugs_folder,category_of_image):\n",
    "\n",
    "  #print(f'Try image {category_of_image} insects')      \n",
    "  #folder with bagus images\n",
    "  bugs_images=os.listdir(bugs_folder)\n",
    "  overlap=False\n",
    "  #Array \n",
    "  overlay_array=[]\n",
    "  image=None\n",
    "  for i in range(category_of_image):\n",
    "    count=0\n",
    "    while True:\n",
    "      count=count+1\n",
    "      if category_of_image==0:\n",
    "        #print(category_of_image)\n",
    "        break\n",
    "      else:  \n",
    "        #Get file name of random bug from folder with bugs\n",
    "        name_of_image=os.path.join(bugs_folder,bugs_images[randint(0,len(bugs_images)-1)])\n",
    "        paste_img=cv2.imread(name_of_image)\n",
    "        paste_img=cv2.cvtColor(paste_img, cv2.COLOR_BGR2GRAY)\n",
    "        \n",
    "        #Check if paste image is bigger than Background\n",
    "        if background.shape[0]<=paste_img.shape[0] :\n",
    "          if background.shape[1]<=paste_img.shape[1] :\n",
    "            paste_img=image_scale(paste_img,int(paste_img.shape[1]*(background.shape[1]/paste_img.shape[1])))\n",
    "          else:  \n",
    "            paste_img=image_scale(paste_img,100)\n",
    "        else:\n",
    "          if background.shape[1]<=paste_img.shape[1] :\n",
    "             paste_img=image_scale(paste_img,int(paste_img.shape[1]*(background.shape[1]/paste_img.shape[1])))\n",
    "          \n",
    "        #Random rotate paste image\n",
    "        paste_img=rotate_image(paste_img,0,8)\n",
    "          \n",
    "        min_contourArea=200\n",
    "        if count<2000:\n",
    "          image=crop_from_contour(background,paste_img,overlay_array,min_contourArea,False)\n",
    "        else:\n",
    "          image=crop_from_contour(background,paste_img,overlay_array,min_contourArea,True)\n",
    "          overlap=True\n",
    "          count=0\n",
    "        if image is  not None:\n",
    "            #print(f'ok')\n",
    "            break\n",
    "  if category_of_image==0:\n",
    "    #print(f'category_of_image={category_of_image}')\n",
    "    image=background\n",
    "    \n",
    "  #print(f'Create image {category_of_image} insects overlap={overlap}')      \n",
    "  return image,overlap         \n",
    "\n",
    "def create_data_set(bugs_folder,image_folder,image_dataset_folder=image_dataset_folder,categories_of_images={0,1,2,3,4,5,6},number_of_images_per_category=200):\n",
    "    !rm {image_folder}/*\n",
    "    !rm insects_set/dirt_set/.ipynb_checkpoints -R\n",
    "    #General Count of images\n",
    "    count_of_image=0\n",
    "    #General Count for images with overlap bagus\n",
    "    count_overlap_image=0\n",
    "    image=None\n",
    "    for category_of_image in categories_of_images:\n",
    "        for  number_of_image in range(number_of_images_per_category):\n",
    "            while True:\n",
    "              image,overlap=create_image(create_background(5),bugs_folder,category_of_image)\n",
    "              if image is not None :\n",
    "                break  \n",
    "            if overlap==True:\n",
    "                count_overlap_image=count_overlap_image+1  \n",
    "            count_of_image= count_of_image + 1\n",
    "            if not os.path.exists(image_folder):\n",
    "              os.mkdir(image_folder)\n",
    "            name_of_image_for_save = os.path.join(image_folder,f'insect_{count_of_image}_{category_of_image}.jpg')\n",
    "            print(f'Save image {name_of_image_for_save}')\n",
    "            #if image is None:\n",
    "              #print('image none')\n",
    "            cv2.imwrite(name_of_image_for_save,image)\n",
    "    with open(os.path.join(image_dataset_folder,f'insects_{count_of_image}_test_new.txt'),'w') as f:\n",
    "          f.write(f'count_of_image={count_of_image} count_overlap_image={count_overlap_image}  overlap {count_overlap_image/count_of_image*100}%') \n",
    "    print(f'count_of_image={count_of_image} count_overlap_image={count_overlap_image}  overlap {count_overlap_image/count_of_image*100}%')\n",
    "\n"
   ]
  },
  {
   "cell_type": "code",
   "execution_count": null,
   "metadata": {
    "collapsed": false,
    "gradient": {
     "editing": false,
     "id": "8802747d-c027-41d6-ab30-f96dc274b81d",
     "kernelId": "c2ba140e-207e-406a-9a13-411336284a46",
     "source_hidden": false
    }
   },
   "outputs": [],
   "source": [
    "create_data_set(train_bugs_folder,train_image_folder,image_dataset_folder,{0,1,2,3,4,5,6},2000)\n",
    "create_data_set(test_bugs_folder,test_image_folder,image_dataset_folder,{0,1,2,3,4,5,6},200)\n"
   ]
  },
  {
   "cell_type": "code",
   "execution_count": null,
   "metadata": {
    "collapsed": false,
    "gradient": {
     "editing": false,
     "id": "cb591353-8bc0-4c04-806e-09a02e7ed115",
     "kernelId": "c2ba140e-207e-406a-9a13-411336284a46",
     "source_hidden": false
    }
   },
   "outputs": [],
   "source": [
    "!rm insects_set/dirt_set/.ipynb_checkpoints -R\n",
    "!rm images_sets/images_train_set/.ipynb_checkpoints -R\n",
    "!rm images_sets/images_test_set/.ipynb_checkpoints -R\n",
    "!tar cvzf images_sets/count_insects_dataset.tar.gz  images_sets/\n"
   ]
  },
  {
   "cell_type": "markdown",
   "metadata": {
    "gradient": {
     "editing": false,
     "id": "aed13f87-a0db-4556-9b72-2c3e3a961f5e",
     "kernelId": "c2ba140e-207e-406a-9a13-411336284a46"
    },
    "id": "THZ531caFee4"
   },
   "source": [
    "\n"
   ]
  }
 ],
 "metadata": {
  "colab": {
   "authorship_tag": "ABX9TyPjwIDv+YFN/QCz/Kf2nYaK",
   "collapsed_sections": [],
   "name": "Create _Count_Bugs_Dataset .ipynb",
   "provenance": []
  },
  "kernelspec": {
   "display_name": "Python 3",
   "name": "python3"
  },
  "language_info": {
   "name": "python"
  }
 },
 "nbformat": 4,
 "nbformat_minor": 0
}
